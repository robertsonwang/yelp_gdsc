{
 "cells": [
  {
   "cell_type": "markdown",
   "metadata": {},
   "source": [
    "### Rating Distribution\n",
    "\n",
    "We take the entire cleaned JSON reviews, appended with states, and collect a random sample of 5000 reviews for each state. Next, graphing the individual distributions we get an idea of how ratings are distributed for each state.\n",
    "\n",
    "We operate with the hypothesis is that people rate restaurants idiosyncratically based on their state. The underlying premise is that a law of large numbers holds for the rating distribution so that taking 5000 samples will give us a good idea of how ratings are distributed within a state. \n",
    "\n",
    "As we can see, the distributions of ratings is indeed significantly different depending on the state that it's in."
   ]
  },
  {
   "cell_type": "markdown",
   "metadata": {},
   "source": [
    "Traditional tests on Yelp dataset:\n",
    "\n",
    "http://firstmonday.org/ojs/index.php/fm/article/view/4944/3863#p2\n",
    "\n",
    "There are two main hypotheses for why a restaurant might be slept on:\n",
    "\n",
    "1. It's been around for a long time and no one knows about it.\n",
    "2. It's relatively new and people just don't know about it yet\n",
    "\n",
    "For 2, there should be a relative lack of Yelp reviews and a high variance in those reviews. I.e. there will be one person that absolutely loved it and another person who had a bad experience. There simply aren't enough reviews for Yelp to calibrate correctly.\n",
    "\n",
    "For 1, the firm will have a high coefficient on the firm age parameter and it might be located in a non-central location. It may also have other idiosyncracies that make it unpopular: \n",
    "* Weird Owners\n",
    "* Ethnic food that Americans aren't used to\n",
    "* Weird seating\n",
    "\n",
    "Length of review will also be longer under the 1st hypothesis as people provide caveats and explanations for their experience.\n",
    "\n",
    "In either case, focusing on the latest reviews will capture defining characteristics as well as removing the non-stationarity in reviews. Non-stationary in the sense that people change the way they talk about food, restaurants change, relative choice of restaurants change, food preferences change."
   ]
  },
  {
   "cell_type": "markdown",
   "metadata": {},
   "source": [
    "Items that I would like to make visualizations for:\n",
    "    * In each state, graph a heatmap of high to low ratings. \n",
    "    * Let the X axis be latitude and the Y axis be Longitude\n",
    "    * Plot each restaurant's star rating on this graph\n",
    "\n",
    "Want:\n",
    "\n",
    "$Rating = \\beta_{1}Longitude + \\beta_{2}Latitude +  \\beta_{3}(Longitude * Latitude)  + \\beta_{4}Price + \\beta_{5}Age + \\epsilon $\n",
    "\n",
    "$Rating = \\beta_{1}Longitude + \\beta_{2}Latitude +  \\beta_{3}(Price * Latitude)  + \\beta_{4}(Price * Longitude)  + \\beta_{5}Age + \\epsilon $\n",
    "\n",
    "WE ARE ASSUMING A STATIONARY DISTRIBUTION. The average life of a restaurant is X years, keep only the latest reviews from that period. Our desired output is based on the year that it is in."
   ]
  },
  {
   "cell_type": "markdown",
   "metadata": {},
   "source": [
    "### Harvard-IV Language Dictionary\n",
    "\n",
    "Based on the results of our preliminary tests, we have decided to focus on using a supervised learning algorithm with the underlying sentiment scores coming from the Harvard-IV language dictionary."
   ]
  },
  {
   "cell_type": "markdown",
   "metadata": {},
   "source": [
    "### Sentiment Distribution\n",
    "\n",
    "We perform a similiar exercise to the analysis on the distribution of ratings within a state. We hypothesize that the distribution of sentiment scores will be a function of the state in which the review originates. The premise here is that the way people talk about restaurants, and how they frame language around positive or negative reviews, will vary depending on their geography."
   ]
  }
 ],
 "metadata": {
  "kernelspec": {
   "display_name": "py3",
   "language": "python",
   "name": "py3"
  },
  "language_info": {
   "codemirror_mode": {
    "name": "ipython",
    "version": 2
   },
   "file_extension": ".py",
   "mimetype": "text/x-python",
   "name": "python",
   "nbconvert_exporter": "python",
   "pygments_lexer": "ipython2",
   "version": "2.7.12"
  }
 },
 "nbformat": 4,
 "nbformat_minor": 1
}
