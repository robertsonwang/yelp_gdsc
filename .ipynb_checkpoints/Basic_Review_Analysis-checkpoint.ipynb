{
 "cells": [
  {
   "cell_type": "markdown",
   "metadata": {},
   "source": [
    "### Import important modules and declare important directories"
   ]
  },
  {
   "cell_type": "code",
   "execution_count": 157,
   "metadata": {
    "collapsed": true
   },
   "outputs": [],
   "source": [
    "%matplotlib inline\n",
    "import matplotlib.pyplot as plt\n",
    "import pandas as pd\n",
    "import json\n",
    "import pandas as pd\n",
    "import csv\n",
    "import os\n",
    "import re\n",
    "\n",
    "import numpy as np\n",
    "from sklearn.feature_extraction.text import CountVectorizer\n",
    "from sklearn import svm\n",
    "from sklearn.linear_model import SGDClassifier\n",
    "from sklearn.feature_extraction.text import TfidfTransformer\n",
    "from sklearn.ensemble import BaggingClassifier\n",
    "from sklearn.ensemble import RandomForestClassifier\n",
    "from sklearn import metrics\n",
    "\n",
    "filename = \"cleaned_reviews_states.json\""
   ]
  },
  {
   "cell_type": "markdown",
   "metadata": {},
   "source": [
    "#### RENAME THESE DIRECTORIES TO MATCH YOUR OWN"
   ]
  },
  {
   "cell_type": "code",
   "execution_count": 1,
   "metadata": {
    "collapsed": true
   },
   "outputs": [],
   "source": [
    "#This is the main folder where all the modules and JSON files are stored\n",
    "file_directory = \"/Users/robertsonwang/Desktop/Python/Yelp/\""
   ]
  },
  {
   "cell_type": "markdown",
   "metadata": {},
   "source": [
    "#### Here, we try to specify word lists to use later in classification"
   ]
  },
  {
   "cell_type": "code",
   "execution_count": 81,
   "metadata": {
    "collapsed": false,
    "scrolled": false
   },
   "outputs": [
    {
     "name": "stderr",
     "output_type": "stream",
     "text": [
      "/Users/robertsonwang/anaconda2/lib/python2.7/site-packages/IPython/core/interactiveshell.py:2717: DtypeWarning: Columns (63,108,109,110,176) have mixed types. Specify dtype option on import or set low_memory=False.\n",
      "  interactivity=interactivity, compiler=compiler, result=result)\n"
     ]
    }
   ],
   "source": [
    "#Load in the Harvard-IV Sentiment Dictionary, then create a new list of only the negative words\n",
    "harvard_dict = pd.read_csv('HIV-4.csv')\n",
    "neg_words = list(set(harvard_dict[(harvard_dict.Negativ == 'Negativ')].Entry))\n",
    "neg_words = [x.lower() for x in pos_neg_words]\n",
    "cleaned_neg_words =[]\n",
    "for word in pos_neg_words:\n",
    "    word = re.sub(\"#\", \"\", word)\n",
    "    word = re.sub(\"\\d\", \"\", word)\n",
    "    cleaned_neg_words.append(word)\n",
    "cleaned_neg_words = list(set(cleaned_words))"
   ]
  },
  {
   "cell_type": "code",
   "execution_count": 2,
   "metadata": {
    "collapsed": false
   },
   "outputs": [],
   "source": [
    "#Here we build a list of sentiment words using past studies and analysis\n",
    "sentiment_words = ['worst', 'rude', 'terrible', 'horrible', 'bad', 'soggy', 'disappointing', 'overcooked', 'sorry',\n",
    "                 'awful', 'disgusting', 'bland', 'tasteless', 'gross', 'mediocre', 'worse', 'poor', \n",
    "                 'sexy', 'sensual', 'seductive', 'voluptuously', 'ravishing', 'ok', 'perfection', 'thank',\n",
    "                 'loved', 'reasonable', 'incredible', 'masterpiece', 'responsible', 'top-quality', 'fantastic!',\n",
    "                 'incompetent', 'fuck-up', 'spiders', 'yikes', 'ant', 'overpriced',\n",
    "                 'hedonistic', 'drug', 'addicting', 'addicted', 'sad', 'barely', 'favorite', 'favorites', 'die',\n",
    "                 'awesome', 'glad', 'delicious', 'dry', 'money', 'unfortunately', 'frozen']"
   ]
  },
  {
   "cell_type": "markdown",
   "metadata": {},
   "source": [
    "### Load in the JSON file, note that reviews_json loads in as a list of dictionaries"
   ]
  },
  {
   "cell_type": "code",
   "execution_count": 62,
   "metadata": {
    "collapsed": false
   },
   "outputs": [],
   "source": [
    "reviews_json = json.load(open(file_directory+filename))"
   ]
  },
  {
   "cell_type": "code",
   "execution_count": 59,
   "metadata": {
    "collapsed": false
   },
   "outputs": [],
   "source": [
    "states = ['AZ', 'IL', 'WI', 'OH', 'NC', 'NV']\n",
    "for review in reviews_json[670000:680000]:\n",
    "    for state in states:\n",
    "        if review['state'] == state:\n",
    "            if len(state_dict[state]) > 5000:\n",
    "                continue\n",
    "            else:\n",
    "                try:\n",
    "                    state_dict[state].append(review)\n",
    "                except KeyError:\n",
    "                    state_dict[state] = [review]\n",
    "        else:\n",
    "            continue\n",
    "with open('cleaned_reviews_subset', 'w') as outfile:\n",
    "    json.dump(state_dict, outfile)"
   ]
  },
  {
   "cell_type": "code",
   "execution_count": 45,
   "metadata": {
    "collapsed": false
   },
   "outputs": [
    {
     "name": "stdout",
     "output_type": "stream",
     "text": [
      "This place is a area staple! Been around for years and not much has changed - I see this as a good thing! Stable and reliable!\n",
      "\n",
      "My family goes every year for St. Pattys Day corn beef! Very nice place for a bar night dinner, or to catch up with some friends over drinks!\n",
      "4\n"
     ]
    }
   ],
   "source": [
    "#For each of the entries in the review list, \n",
    "#we can treat it like a dictionary and call specific portions of that dictionary\n",
    "print reviews_json[0]['text']\n",
    "print reviews_json[0]['stars']"
   ]
  },
  {
   "cell_type": "code",
   "execution_count": 9,
   "metadata": {
    "collapsed": false
   },
   "outputs": [
    {
     "data": {
      "text/plain": [
       "1951815"
      ]
     },
     "execution_count": 9,
     "metadata": {},
     "output_type": "execute_result"
    }
   ],
   "source": [
    "#We have about 2 million reviews\n",
    "len(reviews_json)"
   ]
  },
  {
   "cell_type": "code",
   "execution_count": null,
   "metadata": {
    "collapsed": true
   },
   "outputs": [],
   "source": [
    "#This is way too many. We will only focus on a the collecting a random set of 5000 reviews from each state.\n",
    "states = ['AZ', 'IL', 'WI', 'OH', 'NC', 'NV']\n",
    "star_dict = {}\n",
    "df_list = []\n",
    "for state in states:\n",
    "    star_dict[state] = []\n",
    "    for review in state_dict[state]:\n",
    "        star_dict[state].append(review['stars'])\n",
    "    star_df =  pd.DataFrame({'Ratings':star_dict[state]})\n",
    "    df_list.append(star_df)"
   ]
  },
  {
   "cell_type": "markdown",
   "metadata": {},
   "source": [
    "#### Now, let's create two lists: \n",
    "* One that holds all the reviews \n",
    "* One that holds all the ratings"
   ]
  },
  {
   "cell_type": "code",
   "execution_count": 25,
   "metadata": {
    "collapsed": false
   },
   "outputs": [
    {
     "name": "stdout",
     "output_type": "stream",
     "text": [
      "Got my mojo back after having a few of their appetite teasers. Love LPW for a no-frills bite to eat.\n",
      "4\n"
     ]
    }
   ],
   "source": [
    "reviews = []\n",
    "stars = []\n",
    "for review in review_subset:\n",
    "    reviews.append(review['text'])\n",
    "    stars.append(review['stars'])\n",
    "print reviews[1]\n",
    "print stars[1]"
   ]
  },
  {
   "cell_type": "markdown",
   "metadata": {},
   "source": [
    "#### Let's plot the distribution of the ratings of this subset of reviews based on state"
   ]
  },
  {
   "cell_type": "code",
   "execution_count": 26,
   "metadata": {
    "collapsed": false
   },
   "outputs": [
    {
     "data": {
      "text/plain": [
       "<matplotlib.axes._subplots.AxesSubplot at 0x1111f7850>"
      ]
     },
     "execution_count": 26,
     "metadata": {},
     "output_type": "execute_result"
    },
    {
     "data": {
      "image/png": "[encoded data removed]",
      "text/plain": [
       "<matplotlib.figure.Figure at 0x111203310>"
      ]
     },
     "metadata": {},
     "output_type": "display_data"
    }
   ],
   "source": [
    "star_hist = pd.DataFrame({'Ratings':stars})\n",
    "star_hist.plot.hist()"
   ]
  },
  {
   "cell_type": "markdown",
   "metadata": {},
   "source": [
    "### Now let's try to build a simple linear support vector machine"
   ]
  },
  {
   "cell_type": "code",
   "execution_count": 44,
   "metadata": {
    "collapsed": false
   },
   "outputs": [],
   "source": [
    "train_reviews = reviews[0:800]\n",
    "test_reviews = reviews[800:1000]\n",
    "train_ratings = stars[0:800]"
   ]
  },
  {
   "cell_type": "code",
   "execution_count": 55,
   "metadata": {
    "collapsed": false
   },
   "outputs": [],
   "source": [
    "vectorizer = CountVectorizer(analyzer = \"word\",   \\\n",
    "                             tokenizer = None,    \\\n",
    "                             preprocessor = None, \\\n",
    "                             stop_words = None,   \\\n",
    "                             max_features = 200) \n",
    "\n",
    "train_data_features = vectorizer.fit_transform(train_reviews)\n",
    "test_data_features = vectorizer.transform(test_reviews)"
   ]
  },
  {
   "cell_type": "code",
   "execution_count": 56,
   "metadata": {
    "collapsed": false
   },
   "outputs": [
    {
     "name": "stdout",
     "output_type": "stream",
     "text": [
      "0.43\n"
     ]
    }
   ],
   "source": [
    "lin_svm = svm.LinearSVC(multi_class='crammer_singer')\n",
    "lin_svm = lin_svm.fit(train_data_features, train_ratings)\n",
    "lin_svm_result = lin_svm.predict(test_data_features)\n",
    "\n",
    "output = pd.DataFrame( data={\"Reviews\": test_reviews, \"Rating\": stars[800:1000], \"Predicted_Rating\":lin_svm_result} )\n",
    "output['Lin_SVM_Accurate'] = np.where(output['Rating'] == output['Predicted_Rating'], 1, 0)\n",
    "accurate_percentage = float(sum(output['Lin_SVM_Accurate']))/float(len(output))\n",
    "\n",
    "print accurate_percentage"
   ]
  },
  {
   "cell_type": "code",
   "execution_count": 59,
   "metadata": {
    "collapsed": true
   },
   "outputs": [],
   "source": [
    "from sklearn.feature_extraction.text import CountVectorizer\n",
    "from sklearn.svm import LinearSVC\n",
    "import matplotlib.pyplot as plt\n",
    "\n",
    "def plot_coefficients(classifier, feature_names, top_features=20):\n",
    "    coef = classifier.coef_.ravel()[0:200]\n",
    "    top_positive_coefficients = np.argsort(coef)[-top_features:]\n",
    "    top_negative_coefficients = np.argsort(coef)[:top_features]\n",
    "    top_coefficients = np.hstack([top_negative_coefficients, top_positive_coefficients])\n",
    "    #create plot\n",
    "    plt.figure(figsize=(15, 5))\n",
    "    colors = ['red' if c < 0 else 'blue' for c in coef[top_coefficients]]\n",
    "    plt.bar(np.arange(2 * top_features), coef[top_coefficients], color=colors)\n",
    "    feature_names = np.array(feature_names)\n",
    "    plt.xticks(np.arange(1, 1 + 2 * top_features), feature_names[top_coefficients], rotation=60, ha='right')\n",
    "    plt.show()"
   ]
  },
  {
   "cell_type": "code",
   "execution_count": 60,
   "metadata": {
    "collapsed": false
   },
   "outputs": [
    {
     "data": {
      "image/png": "[encoded data removed]",
      "text/plain": [
       "<matplotlib.figure.Figure at 0x110fe41d0>"
      ]
     },
     "metadata": {},
     "output_type": "display_data"
    }
   ],
   "source": [
    "plot_coefficients(lin_svm, vectorizer.get_feature_names())"
   ]
  },
  {
   "cell_type": "code",
   "execution_count": 63,
   "metadata": {
    "collapsed": true
   },
   "outputs": [],
   "source": []
  },
  {
   "cell_type": "markdown",
   "metadata": {},
   "source": [
    "#### Let's plot the rating distribution within each of the states. Note, this is the distribution of review ratings."
   ]
  },
  {
   "cell_type": "code",
   "execution_count": 71,
   "metadata": {
    "collapsed": false
   },
   "outputs": [
    {
     "name": "stdout",
     "output_type": "stream",
     "text": [
      "AZ Rating Distribution\n"
     ]
    },
    {
     "data": {
      "image/png": "[encoded data removed]",
      "text/plain": [
       "<matplotlib.figure.Figure at 0x10bb41390>"
      ]
     },
     "metadata": {},
     "output_type": "display_data"
    },
    {
     "name": "stdout",
     "output_type": "stream",
     "text": [
      "IL Rating Distribution\n"
     ]
    },
    {
     "data": {
      "image/png": "[encoded data removed]",
      "text/plain": [
       "<matplotlib.figure.Figure at 0x24b93a610>"
      ]
     },
     "metadata": {},
     "output_type": "display_data"
    },
    {
     "name": "stdout",
     "output_type": "stream",
     "text": [
      "WI Rating Distribution\n"
     ]
    },
    {
     "data": {
      "image/png": "[encoded data removed]",
      "text/plain": [
       "<matplotlib.figure.Figure at 0x2131cab90>"
      ]
     },
     "metadata": {},
     "output_type": "display_data"
    },
    {
     "name": "stdout",
     "output_type": "stream",
     "text": [
      "OH Rating Distribution\n"
     ]
    },
    {
     "data": {
      "image/png": "[encoded data removed]",
      "text/plain": [
       "<matplotlib.figure.Figure at 0x18ee16fd0>"
      ]
     },
     "metadata": {},
     "output_type": "display_data"
    },
    {
     "name": "stdout",
     "output_type": "stream",
     "text": [
      "NC Rating Distribution\n"
     ]
    },
    {
     "data": {
      "image/png": "[encoded data removed]",
      "text/plain": [
       "<matplotlib.figure.Figure at 0x102f0a790>"
      ]
     },
     "metadata": {},
     "output_type": "display_data"
    },
    {
     "name": "stdout",
     "output_type": "stream",
     "text": [
      "NV Rating Distribution\n"
     ]
    },
    {
     "data": {
      "image/png": "[encoded data removed]",
      "text/plain": [
       "<matplotlib.figure.Figure at 0x2b0144a50>"
      ]
     },
     "metadata": {},
     "output_type": "display_data"
    }
   ],
   "source": [
    "for i in range(0, len(df_list)):\n",
    "    print states[i] + \" Rating Distribution\"\n",
    "    df_list[i].plot.hist()\n",
    "    plt.show()"
   ]
  },
  {
   "cell_type": "code",
   "execution_count": 73,
   "metadata": {
    "collapsed": false,
    "scrolled": true
   },
   "outputs": [
    {
     "name": "stdout",
     "output_type": "stream",
     "text": [
      "30006\n",
      "30006\n"
     ]
    }
   ],
   "source": [
    "#Build an aggregated list of reviews as well as an aggregated list of stars\n",
    "states = ['AZ', 'IL', 'WI', 'OH', 'NC', 'NV']\n",
    "star_list = []\n",
    "review_list = []\n",
    "for state in states:\n",
    "    for review in state_dict[state]:\n",
    "        review_list.append(review['text'])\n",
    "        star_list.append(review['stars'])"
   ]
  },
  {
   "cell_type": "code",
   "execution_count": 324,
   "metadata": {
    "collapsed": true
   },
   "outputs": [],
   "source": [
    "for n,i in enumerate(star_list):\n",
    "    if i==1:\n",
    "        star_list[n]='bad'\n",
    "    if i==2:\n",
    "        star_list[n]='bad'\n",
    "    if i==3:\n",
    "        star_list[n]='bad'\n",
    "    if i==4:\n",
    "        star_list[n]='good'\n",
    "    if i==5:\n",
    "        star_list[n]='good'"
   ]
  },
  {
   "cell_type": "code",
   "execution_count": 222,
   "metadata": {
    "collapsed": true
   },
   "outputs": [],
   "source": [
    "#Separate out a random set of 5000 reviews into different ratings lists, then find the unique words in each list\n",
    "fives = []\n",
    "fours = []\n",
    "threes = []\n",
    "twos = []\n",
    "ones = []\n",
    "for state in states:\n",
    "    for review in state_dict[state][0:1000]:\n",
    "        if review['stars'] == 5:\n",
    "            fives.append(review['text'])\n",
    "        elif review['stars'] == 4:\n",
    "            fours.append(review['text'])\n",
    "        elif review['stars'] == 3:\n",
    "            threes.append(review['text'])\n",
    "        elif review['stars'] == 2:\n",
    "            twos.append(review['text'])\n",
    "        elif review['stars'] == 1:\n",
    "            ones.append(review['text'])"
   ]
  },
  {
   "cell_type": "code",
   "execution_count": 256,
   "metadata": {
    "collapsed": false
   },
   "outputs": [],
   "source": [
    "import re\n",
    "punctuation = ['(', ')', '?', ':', ';', ',', '.', '!', '/', '\"', \"'\"]\n",
    "ratings_words_list = [ones, twos, threes, fours, fives]\n",
    "cleaned_word_list = {}\n",
    "for rating_word_list in ratings_words_list:\n",
    "    rating_word_list = [x.split(\".\") for x in rating_word_list]\n",
    "    rating_word_list = [item for sublist in rating_word_list for item in sublist]\n",
    "    rating_word_list = [x.split(\" \") for x in rating_word_list]\n",
    "    rating_word_list = [item for sublist in rating_word_list for item in sublist]\n",
    "    rating_word_list = [x for x in rating_word_list if re.match('[a-zA-Z]', x)]\n",
    "    rating_word_list = [re.sub('\\n','', x) for x in rating_word_list]\n",
    "    rating_word_list = [x.lower() for x in rating_word_list]"
   ]
  },
  {
   "cell_type": "code",
   "execution_count": 297,
   "metadata": {
    "collapsed": false
   },
   "outputs": [],
   "source": [
    "threes = [x.split(\".\") for x in threes]\n",
    "threes = [item for sublist in threes for item in sublist]\n",
    "threes = [x.split(\" \") for x in threes]\n",
    "threes = [item for sublist in threes for item in sublist]\n",
    "threes = [x for x in threes if re.match('[a-zA-Z]', x)]\n",
    "threes = [re.sub('\\n','', x) for x in threes]\n",
    "threes = [x.lower() for x in threes]"
   ]
  },
  {
   "cell_type": "code",
   "execution_count": 328,
   "metadata": {
    "collapsed": false
   },
   "outputs": [],
   "source": [
    "#Build a test set and a training set for reviews\n",
    "test_amount = int(0.8 * len(review_list))\n",
    "train_reviews = review_list[0:test_amount] \n",
    "train_stars = star_list[0:test_amount]\n",
    "test_reviews = review_list[test_amount:len(review_list)] \n",
    "test_stars = star_list[test_amount:len(star_list)] "
   ]
  },
  {
   "cell_type": "code",
   "execution_count": 338,
   "metadata": {
    "collapsed": true
   },
   "outputs": [],
   "source": [
    "##Naive Linear SVM, no text pre-processing whatsoever\n",
    "baseline_vectorizer = CountVectorizer(analyzer = \"word\",   \\\n",
    "                             tokenizer = None,    \\\n",
    "                             preprocessor = None, \\\n",
    "                             stop_words = None,   \\\n",
    "                             binary = 1,   \\\n",
    "                             max_features = 500) \n",
    "\n",
    "tf_transformer = TfidfTransformer(use_idf=True)\n",
    "\n",
    "baseline_train_data_features = baseline_vectorizer.fit_transform(train_reviews)\n",
    "baseline_test_data_features = baseline_vectorizer.transform(test_reviews)\n",
    "\n",
    "baseline_train_data_features = tf_transformer.fit_transform(baseline_train_data_features)\n",
    "baseline_test_data_features = tf_transformer.fit_transform(baseline_test_data_features)"
   ]
  },
  {
   "cell_type": "code",
   "execution_count": null,
   "metadata": {
    "collapsed": true
   },
   "outputs": [],
   "source": [
    "import timeit\n",
    "import profile \n",
    "start = time.time()\n",
    "#do work here\n",
    "elapsed = time.time() - start\n",
    "print elapsed"
   ]
  },
  {
   "cell_type": "markdown",
   "metadata": {},
   "source": [
    "#### What we should be doing is using one dataframe, collecting the results in that dataframe and then exporting it to a .csv for later use\n",
    "#### We'd be able to make a quick visualization for each rating system: (accurate rating, predicted rating), one hundred percent accuracy is the 45 degree line, any deviation outside of that will be incorrect"
   ]
  },
  {
   "cell_type": "code",
   "execution_count": 97,
   "metadata": {
    "collapsed": false
   },
   "outputs": [
    {
     "name": "stdout",
     "output_type": "stream",
     "text": [
      "0.524166666667\n"
     ]
    }
   ],
   "source": [
    "bag_dt = BaggingClassifier(n_estimators=500, n_jobs=-1)\n",
    "bag_dt = bag_dt.fit(train_data_features, train_stars)\n",
    "bag_dt_result = bag_dt.predict(test_data_features)\n",
    "\n",
    "output = pd.DataFrame( data={\"Reviews\": test_reviews, \"Rating\": test_stars, \"Predicted_Rating\":bag_dt_result} )\n",
    "output['Bag_DT_Accurate'] = np.where(output['Rating'] == output['Predicted_Rating'], 1, 0)\n",
    "accurate_percentage = float(sum(output['Bag_DT_Accurate']))/float(len(output))\n",
    "\n",
    "print accurate_percentage"
   ]
  },
  {
   "cell_type": "markdown",
   "metadata": {},
   "source": [
    "#### Test results using all of the states\n",
    "\n",
    "* 0.5383 from Naive TF-IDF Linear SVM\n",
    "* 0.4567 from Naive TF-IDF Linear SVM using Harvard-IV dictionary\n",
    "* 0.5241 from Naive TF-IDF Bagged DT using 100 estimators\n",
    "* 0.496 from Naive TF-IDF Bagged DT using 100 estimators and Harvard-IV dictionary\n",
    "* 0.5156 from Naive TF-IDF RandomForest and Harvard-IV dictionary\n",
    "* 0.53 from Naive TF-IDF RF\n",
    "* 0.458 from Naive TF-IDF SVM"
   ]
  },
  {
   "cell_type": "code",
   "execution_count": 330,
   "metadata": {
    "collapsed": false
   },
   "outputs": [],
   "source": [
    "##Use the Harvard-IV negative Dictionary\n",
    "vectorizer = CountVectorizer(analyzer = \"word\",   \\\n",
    "                             tokenizer = None,    \\\n",
    "                             vocabulary = cleaned_words, \\\n",
    "                             stop_words = 'english',   \\\n",
    "                             max_features = None) \n",
    "\n",
    "tf_transformer = TfidfTransformer(use_idf=True)\n",
    "\n",
    "train_data_features = vectorizer.fit_transform(train_reviews)\n",
    "test_data_features = vectorizer.transform(test_reviews)\n",
    "\n",
    "train_data_features = tf_transformer.fit_transform(train_data_features)\n",
    "test_data_features = tf_transformer.fit_transform(test_data_features)\n",
    "vocab = vectorizer.get_feature_names()"
   ]
  },
  {
   "cell_type": "code",
   "execution_count": 312,
   "metadata": {
    "collapsed": false
   },
   "outputs": [],
   "source": [
    "lin_svm = svm.LinearSVC(multi_class='crammer_singer')\n",
    "lin_svm = lin_svm.fit(train_data_features, train_stars)\n",
    "lin_svm_result = lin_svm.predict(test_data_features)\n",
    "\n",
    "output = pd.DataFrame( data={\"Reviews\": test_reviews, \"Rating\": test_stars, \"Predicted_Rating\":lin_svm_result} )\n",
    "output['Lin_SVM_Accurate'] = np.where(output['Rating'] == output['Predicted_Rating'], 1, 0)\n",
    "accurate_percentage = float(sum(output['Lin_SVM_Accurate']))/float(len(output))\n",
    "\n",
    "print accurate_percentage"
   ]
  },
  {
   "cell_type": "code",
   "execution_count": 320,
   "metadata": {
    "collapsed": false
   },
   "outputs": [
    {
     "name": "stdout",
     "output_type": "stream",
     "text": [
      "0.5235\n"
     ]
    }
   ],
   "source": [
    "#Try a RandomForest classifier\n",
    "forest = RandomForestClassifier(n_estimators = 200, criterion ='entropy')\n",
    "forest = forest.fit(train_data_features, train_stars)\n",
    "rf_result = forest.predict(test_data_features)\n",
    "\n",
    "output = pd.DataFrame( data={\"Reviews\": test_reviews, \"Rating\": test_stars, \"Predicted_Rating\":rf_result} )\n",
    "output['RF_Accurate'] = np.where(output['Rating'] == output['Predicted_Rating'], 1, 0)\n",
    "accurate_percentage = float(sum(output['RF_Accurate']))/float(len(output))\n",
    "\n",
    "print accurate_percentage"
   ]
  },
  {
   "cell_type": "code",
   "execution_count": 321,
   "metadata": {
    "collapsed": false
   },
   "outputs": [],
   "source": [
    "bag_dt = BaggingClassifier(n_estimators=200, n_jobs=-1)\n",
    "bag_dt = bag_dt.fit(train_data_features, train_stars)\n",
    "bag_dt_result = bag_dt.predict(test_data_features)\n",
    "\n",
    "output = pd.DataFrame( data={\"Reviews\": test_reviews, \"Rating\": test_stars, \"Predicted_Rating\":bag_dt_result} )\n",
    "output['Bag_DT_Accurate'] = np.where(output['Rating'] == output['Predicted_Rating'], 1, 0)\n",
    "accurate_percentage = float(sum(output['Bag_DT_Accurate']))/float(len(output))\n",
    "\n",
    "print accurate_percentage"
   ]
  },
  {
   "cell_type": "code",
   "execution_count": 339,
   "metadata": {
    "collapsed": false
   },
   "outputs": [
    {
     "name": "stdout",
     "output_type": "stream",
     "text": [
      "0.803565478174\n"
     ]
    }
   ],
   "source": [
    "svm_classifier = SGDClassifier(loss='perceptron', shuffle = False, eta0=10e-100, learning_rate='invscaling')\n",
    "svm_classifier = svm_classifier.fit(baseline_train_data_features, train_stars)\n",
    "svm_result = svm_classifier.predict(baseline_test_data_features)\n",
    "\n",
    "output = pd.DataFrame( data={\"Reviews\": test_reviews, \"Rating\": test_stars, \"Predicted_Rating\":svm_result} )\n",
    "output['SVM_Accurate'] = np.where(output['Rating'] == output['Predicted_Rating'], 1, 0)\n",
    "accurate_percentage = float(sum(output['SVM_Accurate']))/float(len(output))\n",
    "\n",
    "print accurate_percentage"
   ]
  },
  {
   "cell_type": "code",
   "execution_count": 337,
   "metadata": {
    "collapsed": false
   },
   "outputs": [
    {
     "name": "stdout",
     "output_type": "stream",
     "text": [
      "[[3673  287]\n",
      " [1117  925]]\n"
     ]
    }
   ],
   "source": [
    "print metrics.confusion_matrix(test_stars, svm_result, labels = ['good', 'bad'])"
   ]
  }
 ],
 "metadata": {
  "anaconda-cloud": {},
  "kernelspec": {
   "display_name": "py3",
   "language": "python",
   "name": "py3"
  },
  "language_info": {
   "codemirror_mode": {
    "name": "ipython",
    "version": 2
   },
   "file_extension": ".py",
   "mimetype": "text/x-python",
   "name": "python",
   "nbconvert_exporter": "python",
   "pygments_lexer": "ipython2",
   "version": "2.7.12"
  }
 },
 "nbformat": 4,
 "nbformat_minor": 1
}
