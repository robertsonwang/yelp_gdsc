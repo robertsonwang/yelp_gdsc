{
 "cells": [
  {
   "cell_type": "markdown",
   "metadata": {},
   "source": [
    "### JSON Cleanup Process"
   ]
  },
  {
   "cell_type": "markdown",
   "metadata": {},
   "source": [
    "<h4> Main JSON Files: </h4>\n",
    "    \n",
    "1. yelp_academic_dataset_business\n",
    "2. yelp_academic_dataset_review\n",
    "3. yelp_academic_dataset_customer\n",
    "\n",
    "<h4> For each business entry: </h4>\n",
    "<ul>\n",
    "    <li> Keep if business is restaurant </li>\n",
    "    <li> Keep if location is in state list  </li>\n",
    "    <li> Output list of valid businesses </li>\n",
    "    <li> Output csv file for all busineses and business attributes </li>\n",
    "</ul>\n",
    "\n",
    "<h4> For each review entry: </h4>\n",
    "<ul>\n",
    "    <li> Keep only businesses in valid business list </li>\n",
    "    <li> Create a dictionary with each business as a key </li>\n",
    "    <li> For each key, create a list of unique customers in that business </li>\n",
    "    <li> Find the unique list of customers for all businesses </li>\n",
    "    <li> Output csv file for all reviews and review attributes </li>\n",
    "</ul>\n",
    "\n",
    "<h4> For each customer entry: </h4>\n",
    "<ul>\n",
    "    <li> Keep if customer in the unique list of customers for all businesses </li>\n",
    "    <li> Output csv file of all customers and customer attributes </li>\n",
    "    </ul>"
   ]
  },
  {
   "cell_type": "code",
   "execution_count": 1,
   "metadata": {
    "collapsed": false
   },
   "outputs": [],
   "source": [
    "import json\n",
    "\n",
    "def clean_states(filename, states):\n",
    "    records = []\n",
    "    with open(filename, 'r') as fd:\n",
    "        for line in fd:\n",
    "            j_content = json.loads(line)\n",
    "            if j_content['state'] in states:\n",
    "                records.append(j_content)\n",
    "                \n",
    "    return records\n",
    "\n",
    "def clean_restaurants(json_list):\n",
    "    records = []\n",
    "    for json in json_list:\n",
    "        try:\n",
    "            if 'Restaurants' in json['categories'] or 'Restaurant' in json['categories']:\n",
    "                records.append(json)\n",
    "        except TypeError:\n",
    "            pass\n",
    "    \n",
    "    return records\n",
    "\n",
    "def return_ids(data_list, id_type):\n",
    "    id_list = []\n",
    "    for data_point in data_list:\n",
    "        id_list.append(data_point[id_type])\n",
    "        \n",
    "    return id_list\n",
    "\n",
    "def filter_reviews(filename, business_list):\n",
    "    records = []\n",
    "    with open(filename, 'r') as fd:\n",
    "        for line in fd:\n",
    "            j_content = json.loads(line)\n",
    "            if j_content['business_id'] in business_list:\n",
    "                records.append(j_content)\n",
    "                \n",
    "    return records\n",
    "\n",
    "def filter_customers(filename):\n",
    "    records = []\n",
    "    \n",
    "    with open(filename, 'r') as fd:\n",
    "        for line in fd:\n",
    "            j_content = json.loads(line)\n",
    "            for record in j_content:\n",
    "                records.append(record['user_id'])\n",
    "                \n",
    "    customer_file = '/Volumes/Data/yelp_dataset/yelp_academic_dataset_user.json'\n",
    "    customer_records = []\n",
    "    \n",
    "    with open(customer_file, 'r') as fd:\n",
    "        for line in fd:\n",
    "            j_content = json.loads(line)\n",
    "            if j_content['user_id'] in set(records):\n",
    "                customer_records.append(j_content)\n",
    "\n",
    "    return customer_records\n",
    "\n",
    "def output_data(json_data, filename):\n",
    "    output_directory = \"/Volumes/Data/yelp_dataset/cleaned_data/\"\n",
    "    filename = output_directory + filename\n",
    "    with open(filename, 'w') as outfile:\n",
    "        json.dump(json_data, outfile)"
   ]
  },
  {
   "cell_type": "code",
   "execution_count": 21,
   "metadata": {
    "collapsed": false
   },
   "outputs": [],
   "source": [
    "#Declare data directory and input JSON file\n",
    "data_dir = \"/Volumes/data/yelp_dataset/\"\n",
    "business_jsonFile = data_dir + 'yelp_academic_dataset_business.json'\n",
    "\n",
    "#Declare the list of states to be kept\n",
    "states = ['AZ', 'IL', 'WI', 'OH', 'NC', 'NV']\n",
    "state_data = clean_states(business_jsonFile, states)\n",
    "\n",
    "#Keep only restaurants\n",
    "restaurant_data = clean_restaurants(state_data)\n",
    "\n",
    "#Output cleaned up JSON file\n",
    "business_output = \"cleaned_business_data.json\"\n",
    "output_data(restaurant_data, business_output)\n",
    "\n",
    "#Create a list of unique business IDs\n",
    "business_list = list(set(return_ids(restaurant_data, 'business_id')))\n"
   ]
  },
  {
   "cell_type": "code",
   "execution_count": 22,
   "metadata": {
    "collapsed": false
   },
   "outputs": [],
   "source": [
    "reviews_jsonFile = data_dir + 'yelp_academic_dataset_review.json'\n",
    "review_data = filter_reviews(reviews_jsonFile, business_list)"
   ]
  },
  {
   "cell_type": "code",
   "execution_count": 28,
   "metadata": {
    "collapsed": false
   },
   "outputs": [],
   "source": [
    "reviews_output = \"cleaned_review_data.json\"\n",
    "output_data(review_data, reviews_output)"
   ]
  },
  {
   "cell_type": "code",
   "execution_count": null,
   "metadata": {
    "collapsed": false
   },
   "outputs": [],
   "source": [
    "reviews_file = \"/Users/robertsonwang/Desktop/Python/Yelp/cleaned_review_data.json\"\n",
    "customers_list = filter_customers(reviews_file)"
   ]
  },
  {
   "cell_type": "markdown",
   "metadata": {},
   "source": [
    "### Merge the state data key from the business JSON into the review JSON"
   ]
  },
  {
   "cell_type": "code",
   "execution_count": 15,
   "metadata": {
    "collapsed": false
   },
   "outputs": [],
   "source": [
    "business_json = json.load(open(\"/Users/robertsonwang/Desktop/Python/Yelp/Yelp_scrapper/cleaned_business_data.json\"))\n",
    "\n",
    "filtered_biz = {}\n",
    "for line in business_json:\n",
    "    filtered_biz[line['business_id']] = line['state']"
   ]
  },
  {
   "cell_type": "code",
   "execution_count": 17,
   "metadata": {
    "collapsed": true
   },
   "outputs": [],
   "source": [
    "reviews_json = json.load(open(\"/Users/robertsonwang/Desktop/Python/Yelp/cleaned_review_data.json\"))\n"
   ]
  },
  {
   "cell_type": "code",
   "execution_count": 23,
   "metadata": {
    "collapsed": false
   },
   "outputs": [],
   "source": [
    "reviews_json[1]['state'] = filtered_biz[reviews_json[1]['business_id']]\n"
   ]
  }
 ],
 "metadata": {
  "anaconda-cloud": {},
  "kernelspec": {
   "display_name": "Python [conda root]",
   "language": "python",
   "name": "conda-root-py"
  },
  "language_info": {
   "codemirror_mode": {
    "name": "ipython",
    "version": 2
   },
   "file_extension": ".py",
   "mimetype": "text/x-python",
   "name": "python",
   "nbconvert_exporter": "python",
   "pygments_lexer": "ipython2",
   "version": "2.7.12"
  }
 },
 "nbformat": 4,
 "nbformat_minor": 1
}
