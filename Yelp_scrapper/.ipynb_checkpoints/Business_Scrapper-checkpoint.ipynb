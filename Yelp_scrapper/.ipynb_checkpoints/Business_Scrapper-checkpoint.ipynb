{
 "cells": [
  {
   "cell_type": "markdown",
   "metadata": {},
   "source": [
    "#### Declare necessary modules/links/directories"
   ]
  },
  {
   "cell_type": "code",
   "execution_count": 38,
   "metadata": {
    "collapsed": true
   },
   "outputs": [],
   "source": [
    "from bs4 import BeautifulSoup\n",
    "import requests\n",
    "import re\n",
    "import json\n",
    "import scrapping_functions as sf\n",
    "reload(sf)\n",
    "from selenium import webdriver\n",
    "#Start = signifies the listing to start it, increases in increments of 10 per page\n",
    "#End = 990\n",
    "target_url = 'https://www.yelp.com/search?find_desc=Restaurants&find_loc=Washington+DC&start='\n",
    "base = 'https://www.yelp.com/'"
   ]
  },
  {
   "cell_type": "code",
   "execution_count": 45,
   "metadata": {
    "collapsed": false
   },
   "outputs": [],
   "source": [
    "#Pull in a list of links from the target url\n",
    "link_dict = {}\n",
    "for x in range(10, 990,10):\n",
    "    target = target_url + str(x)\n",
    "    raw_html = requests.get(target)\n",
    "    soup = BeautifulSoup(raw_html.text, 'html.parser')\n",
    "    link_dict = sf.biz_links(soup, link_dict)\n"
   ]
  },
  {
   "cell_type": "code",
   "execution_count": 86,
   "metadata": {
    "collapsed": false
   },
   "outputs": [
    {
     "data": {
      "text/plain": [
       "'4.5 '"
      ]
     },
     "execution_count": 86,
     "metadata": {},
     "output_type": "execute_result"
    }
   ],
   "source": []
  },
  {
   "cell_type": "code",
   "execution_count": 3,
   "metadata": {
    "collapsed": false
   },
   "outputs": [],
   "source": [
    "###Don't need to do this anymore! We're only keeping links with valid reviews\n",
    "#Remove extraneous links, keep only business links\n",
    "for link in link_list:\n",
    "    if re.search(\"adredir\", link):\n",
    "        link_list.pop(link_list.index(link))"
   ]
  },
  {
   "cell_type": "code",
   "execution_count": 48,
   "metadata": {
    "collapsed": false
   },
   "outputs": [],
   "source": [
    "#Write all links to a text file\n",
    "biz_links = open('cleanbiz_links.txt', 'w')\n",
    "for item in link_dict.keys():\n",
    "    biz_links.write(\"%s\\n\" % item)\n",
    "biz_links.close()"
   ]
  },
  {
   "cell_type": "markdown",
   "metadata": {},
   "source": [
    "We would like to construct the following dictionary:\n",
    "\n",
    "biz_dict = {biz_name: {\"city\": \"Washington\", \"state\": \"DC\", \"category_aliases\": \"newamerican,breakfast_brunch\", \"biz_id\": \"wO-7cBBOYUdiLflpuRsu9A\", \"latitude\": 38.90842, \"biz_name\": \"The Bird\", \"city_state\": \"Washington, DC\", \"longitude\": -77.026685, \"geoquad\": 12845454}}\n",
    "\n",
    "unique_id = 5D32F13B349CE2AD\n",
    "\n",
    "#### Algorithm design:\n",
    "\n",
    "For each link in biz_links:\n",
    "    > set biz_name = replace(\"_\", '-' in link)\n",
    "    > find the unique_id\n",
    "    > assign biz_dict[biz_name] = dictionary(biz_name)"
   ]
  },
  {
   "cell_type": "code",
   "execution_count": 56,
   "metadata": {
    "collapsed": false
   },
   "outputs": [],
   "source": [
    "link_file = open(\"cleanbiz_links.txt\", \"r\")\n",
    "link_list = link_file.read().split('\\n')\n",
    "link_list = list(set(link_list))\n",
    "for link in link_list:\n",
    "    if link == '':\n",
    "        link_list.pop(link_list.index(link))"
   ]
  },
  {
   "cell_type": "code",
   "execution_count": 84,
   "metadata": {
    "collapsed": false
   },
   "outputs": [],
   "source": [
    "biz_dict = {}\n",
    "\n",
    "for biz_name in link_list:\n",
    "    #biz_name = re.sub(\"-washington*\", '', biz_name)\n",
    "    biz_dict[biz_name] = {}\n",
    "    \n",
    "    raw_html = requests.get(base + biz_name)\n",
    "    soup = BeautifulSoup(raw_html.text, 'html.parser')\n",
    "    parse_string = str(soup.find_all(\"script\"))\n",
    "    parse_list = parse_string.split('<script>')\n",
    "    \n",
    "    try:\n",
    "        match = re.sub(\".*,null,\",'', [s for s in parse_list if re.search(\".*latitude.*\", s)][0])\n",
    "    except IndexError:\n",
    "        \"The regexp is matching too many JSON entries, please take a look at \" + str(link)\n",
    "    \n",
    "    biz_dict[biz_name] = json.loads(re.sub(\", \\\"geoquad\\\".*\",'', match) + '}')\n",
    "    biz_dict[biz_name]['rating'] = link_dict[biz_name].replace(\" \", \"\")"
   ]
  },
  {
   "cell_type": "code",
   "execution_count": 88,
   "metadata": {
    "collapsed": false
   },
   "outputs": [
    {
     "name": "stdout",
     "output_type": "stream",
     "text": [
      "{u'city': u'Washington', 'rating': '4.5', u'category_aliases': u'foodtrucks,korean,tradamerican', u'biz_name': u'Rolling Cow', u'city_state': u'Washington, DC', u'longitude': -77.0413344, u'state': u'DC', u'biz_id': u'ynuv5y74SB2gEXFPjMYb_Q', u'latitude': 38.897244}\n",
      "/biz/rolling-cow-washington\n"
     ]
    }
   ],
   "source": [
    "print biz_dict[biz_dict.keys()[0]]\n",
    "print biz_dict.keys()[0]"
   ]
  },
  {
   "cell_type": "code",
   "execution_count": 92,
   "metadata": {
    "collapsed": true
   },
   "outputs": [],
   "source": [
    "#Output JSON file of all the business details\n",
    "with open('biz_details.json', 'w') as outfile:\n",
    "    json.dump(biz_dict, outfile)"
   ]
  },
  {
   "cell_type": "code",
   "execution_count": 91,
   "metadata": {
    "collapsed": true
   },
   "outputs": [],
   "source": [
    "biz_json = json.load(open(\"/Users/robertsonwang/Desktop/Python/Yelp/Yelp_scrapper/biz_details.json\"))\n",
    "agg_dict = dict(biz_json, **biz_dict)\n",
    "with open('biz_details_agg.json', 'w') as outfile:\n",
    "    json.dump(agg_dict, outfile)"
   ]
  },
  {
   "cell_type": "markdown",
   "metadata": {},
   "source": [
    "### Testing is going on beyond this point"
   ]
  },
  {
   "cell_type": "code",
   "execution_count": 36,
   "metadata": {
    "collapsed": false
   },
   "outputs": [
    {
     "data": {
      "text/plain": [
       "{'/biz/convivial-washington': '4.0 ',\n",
       " '/biz/fiola-mare-washington': '4.0 ',\n",
       " '/biz/honeysuckle-washington-3': '4.5 ',\n",
       " '/biz/lemon-cuisine-of-india-washington': '4.5 ',\n",
       " '/biz/marcels-by-robert-wiedmaier-washington': '4.5 ',\n",
       " '/biz/mezcalero-washington': '4.0 ',\n",
       " '/biz/old-ebbitt-grill-washington': '4.0 ',\n",
       " '/biz/the-dabney-washington': '4.5 ',\n",
       " '/biz/the-pig-washington-2': '4.0 ',\n",
       " '/biz/zaytinya-washington': '4.0 '}"
      ]
     },
     "execution_count": 36,
     "metadata": {},
     "output_type": "execute_result"
    }
   ],
   "source": [
    "# test_link = '10'\n",
    "# target_url = 'https://www.yelp.com/search?find_desc=Restaurants&find_loc=Washington+DC&start='\n",
    "\n",
    "# target = target_url + test_link\n",
    "# raw_html = requests.get(target)\n",
    "# soup = BeautifulSoup(raw_html.text, 'html.parser')\n",
    "\n",
    "articles = soup.find_all(\"div\", class_=\"biz-listing-large\")\n",
    "link_dict = {}\n",
    "for article in articles:\n",
    "    rating_match = re.search(r'(.*) star rating', str(article.find_all('div', class_ = \"biz-rating biz-rating-large clearfix\")))\n",
    "    link_match = re.search(r'href=[\\'\"]?([^\\'\" >]+)', str(article.find_all(href = True)))\n",
    "    if link_match and rating_match:\n",
    "        link = link_match.group(0)\n",
    "        link = link[6:]\n",
    "        link = link.replace('?osq=Restaurants', '')\n",
    "        rating = rating_match.group(0)[len(rating_match.group(0))-15:]\n",
    "        rating = rating.replace(\"star rating\", \"\")\n",
    "        link_dict[link] = rating\n",
    "    \n",
    "link_dict"
   ]
  },
  {
   "cell_type": "code",
   "execution_count": 39,
   "metadata": {
    "collapsed": false
   },
   "outputs": [],
   "source": [
    "link_dict = {}\n",
    "link_dict = sf.biz_links(soup, link_dict)"
   ]
  },
  {
   "cell_type": "code",
   "execution_count": 40,
   "metadata": {
    "collapsed": false
   },
   "outputs": [
    {
     "data": {
      "text/plain": [
       "{'/biz/convivial-washington': '4.0 ',\n",
       " '/biz/fiola-mare-washington': '4.0 ',\n",
       " '/biz/honeysuckle-washington-3': '4.5 ',\n",
       " '/biz/lemon-cuisine-of-india-washington': '4.5 ',\n",
       " '/biz/marcels-by-robert-wiedmaier-washington': '4.5 ',\n",
       " '/biz/mezcalero-washington': '4.0 ',\n",
       " '/biz/old-ebbitt-grill-washington': '4.0 ',\n",
       " '/biz/the-dabney-washington': '4.5 ',\n",
       " '/biz/the-pig-washington-2': '4.0 ',\n",
       " '/biz/zaytinya-washington': '4.0 '}"
      ]
     },
     "execution_count": 40,
     "metadata": {},
     "output_type": "execute_result"
    }
   ],
   "source": [
    "link_dict"
   ]
  },
  {
   "cell_type": "markdown",
   "metadata": {},
   "source": [
    "WE CAN DEFINE DISTANCE BETWEEN (CITY, REVIEW) AS COSINE SIMILARITY!"
   ]
  }
 ],
 "metadata": {
  "anaconda-cloud": {},
  "kernelspec": {
   "display_name": "py3",
   "language": "python",
   "name": "py3"
  },
  "language_info": {
   "codemirror_mode": {
    "name": "ipython",
    "version": 2
   },
   "file_extension": ".py",
   "mimetype": "text/x-python",
   "name": "python",
   "nbconvert_exporter": "python",
   "pygments_lexer": "ipython2",
   "version": "2.7.12"
  }
 },
 "nbformat": 4,
 "nbformat_minor": 1
}
